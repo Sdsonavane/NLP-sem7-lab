{
 "cells": [
  {
   "cell_type": "markdown",
   "metadata": {},
   "source": [
    "Name:Sharyu Sonavane\n",
    "Roll No:21102A0076ss\n",
    "github link: https://github.com/Sdsonavane/NLP-sem7-lab\n"
   ]
  },
  {
   "cell_type": "code",
   "execution_count": 1,
   "metadata": {},
   "outputs": [
    {
     "name": "stderr",
     "output_type": "stream",
     "text": [
      "[nltk_data] Downloading package punkt to\n",
      "[nltk_data]     C:\\Users\\shary\\AppData\\Roaming\\nltk_data...\n",
      "[nltk_data]   Unzipping tokenizers\\punkt.zip.\n",
      "[nltk_data] Downloading package stopwords to\n",
      "[nltk_data]     C:\\Users\\shary\\AppData\\Roaming\\nltk_data...\n",
      "[nltk_data]   Unzipping corpora\\stopwords.zip.\n"
     ]
    },
    {
     "data": {
      "text/plain": [
       "True"
      ]
     },
     "execution_count": 1,
     "metadata": {},
     "output_type": "execute_result"
    }
   ],
   "source": [
    "import nltk\n",
    "nltk.download('punkt')\n",
    "nltk.download('stopwords')\n"
   ]
  },
  {
   "cell_type": "code",
   "execution_count": 2,
   "metadata": {},
   "outputs": [
    {
     "name": "stdout",
     "output_type": "stream",
     "text": [
      "Tokens: ['A', 'corpus', 'may', 'contain', 'texts', 'in', 'a', 'single', 'language', '(', 'monolingual', 'corpus', ')', 'or', 'text', 'data', 'in', 'multiple', 'languages', '(', 'multilingual', 'corpus', ')', '.']\n",
      "Lowercased tokens: ['a', 'corpus', 'may', 'contain', 'texts', 'in', 'a', 'single', 'language', '(', 'monolingual', 'corpus', ')', 'or', 'text', 'data', 'in', 'multiple', 'languages', '(', 'multilingual', 'corpus', ')', '.']\n",
      "Tokens without punctuation: ['A', 'corpus', 'may', 'contain', 'texts', 'in', 'a', 'single', 'language', 'monolingual', 'corpus', 'or', 'text', 'data', 'in', 'multiple', 'languages', 'multilingual', 'corpus']\n",
      "Tokens without stopwords: ['corpus', 'may', 'contain', 'texts', 'single', 'language', '(', 'monolingual', 'corpus', ')', 'text', 'data', 'multiple', 'languages', '(', 'multilingual', 'corpus', ')', '.']\n",
      "Stop words in English: ['i', 'me', 'my', 'myself', 'we', 'our', 'ours', 'ourselves', 'you', \"you're\", \"you've\", \"you'll\", \"you'd\", 'your', 'yours', 'yourself', 'yourselves', 'he', 'him', 'his', 'himself', 'she', \"she's\", 'her', 'hers', 'herself', 'it', \"it's\", 'its', 'itself', 'they', 'them', 'their', 'theirs', 'themselves', 'what', 'which', 'who', 'whom', 'this', 'that', \"that'll\", 'these', 'those', 'am', 'is', 'are', 'was', 'were', 'be']\n",
      "Cleaned text: A corpus may contain texts in a single language (monolingual corpus) or text data in multiple languages (multilingual corpus).\n"
     ]
    },
    {
     "name": "stderr",
     "output_type": "stream",
     "text": [
      "[nltk_data] Downloading package punkt to\n",
      "[nltk_data]     C:\\Users\\shary\\AppData\\Roaming\\nltk_data...\n",
      "[nltk_data]   Package punkt is already up-to-date!\n",
      "[nltk_data] Downloading package stopwords to\n",
      "[nltk_data]     C:\\Users\\shary\\AppData\\Roaming\\nltk_data...\n",
      "[nltk_data]   Package stopwords is already up-to-date!\n"
     ]
    }
   ],
   "source": [
    "import nltk\n",
    "import string\n",
    "\n",
    "# Download the required NLTK resources\n",
    "nltk.download('punkt')\n",
    "nltk.download('stopwords')\n",
    "\n",
    "# Input text\n",
    "text = \"A corpus may contain texts in a single language (monolingual corpus) or text data in multiple languages (multilingual corpus).\"\n",
    "\n",
    "# Tokenize the text\n",
    "tokens = nltk.word_tokenize(text)\n",
    "# Print the tokens\n",
    "print(\"Tokens:\", tokens)\n",
    "\n",
    "# Lowercase the tokens\n",
    "lowercased_tokens = [token.lower() for token in tokens]\n",
    "# Print the lowercased tokens\n",
    "print(\"Lowercased tokens:\", lowercased_tokens)\n",
    "\n",
    "# Remove punctuation\n",
    "filtered_tokens = [token for token in tokens if token not in string.punctuation]\n",
    "print(\"Tokens without punctuation:\", filtered_tokens)\n",
    "\n",
    "# Get list of stopwords in English\n",
    "stopwords = nltk.corpus.stopwords.words(\"english\")\n",
    "\n",
    "# Remove stopwords\n",
    "filtered_tokens = [token for token in tokens if token.lower() not in stopwords]\n",
    "print(\"Tokens without stopwords:\", filtered_tokens)\n",
    "\n",
    "print(\"Stop words in English:\", stopwords[0:50])\n",
    "\n",
    "# Remove leading and trailing white space\n",
    "text = text.strip()\n",
    "\n",
    "# Replace multiple consecutive white space characters with a single space\n",
    "text = \" \".join(text.split())\n",
    "\n",
    "print(\"Cleaned text:\", text)\n"
   ]
  },
  {
   "cell_type": "markdown",
   "metadata": {},
   "source": []
  },
  {
   "cell_type": "markdown",
   "metadata": {},
   "source": []
  }
 ],
 "metadata": {
  "kernelspec": {
   "display_name": "Python 3",
   "language": "python",
   "name": "python3"
  },
  "language_info": {
   "codemirror_mode": {
    "name": "ipython",
    "version": 3
   },
   "file_extension": ".py",
   "mimetype": "text/x-python",
   "name": "python",
   "nbconvert_exporter": "python",
   "pygments_lexer": "ipython3",
   "version": "3.12.4"
  }
 },
 "nbformat": 4,
 "nbformat_minor": 2
}
